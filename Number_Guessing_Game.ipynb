{
  "nbformat": 4,
  "nbformat_minor": 0,
  "metadata": {
    "colab": {
      "provenance": [],
      "authorship_tag": "ABX9TyN475WfqQPL+HyZHzCYuvKk",
      "include_colab_link": true
    },
    "kernelspec": {
      "name": "python3",
      "display_name": "Python 3"
    },
    "language_info": {
      "name": "python"
    }
  },
  "cells": [
    {
      "cell_type": "markdown",
      "metadata": {
        "id": "view-in-github",
        "colab_type": "text"
      },
      "source": [
        "<a href=\"https://colab.research.google.com/github/nazeenasif/Number-Guessing-Game-Python/blob/main/Number_Guessing_Game.ipynb\" target=\"_parent\"><img src=\"https://colab.research.google.com/assets/colab-badge.svg\" alt=\"Open In Colab\"/></a>"
      ]
    },
    {
      "cell_type": "code",
      "execution_count": null,
      "metadata": {
        "id": "2infjppGyu4O"
      },
      "outputs": [],
      "source": [
        "import random\n",
        "\n",
        "def number_guessing_game():\n",
        "    print(\"\\nWelcome to the number guessing game!\")\n",
        "    print(\"There is a secret number between 1-20. Can you guess it?\\n\")\n",
        "\n",
        "    # Generate the random secret number between 1-20\n",
        "    secret_number = random.randint(1, 20)\n",
        "    attempts = 0\n",
        "\n",
        "    while True:\n",
        "        try:\n",
        "            guess = int(input(\"Enter your guess: \"))\n",
        "            attempts += 1\n",
        "\n",
        "            if guess < secret_number:\n",
        "                print(\"Too low! Try again.\\n\")\n",
        "            elif guess > secret_number:\n",
        "                print(\"Too high! Try again.\\n\")\n",
        "            else:\n",
        "                print(f\"Congratulations! 🎉 You guessed the secret number in {attempts} attempts.\\n\")\n",
        "                break  # Exit the loop when guessed correctly\n",
        "\n",
        "        except ValueError:\n",
        "            print(\"Invalid input! Please enter a number.\")  # Fix indentation\n",
        "\n",
        "\n",
        "if __name__ == \"__main__\":\n",
        "    number_guessing_game()\n"
      ]
    }
  ]
}